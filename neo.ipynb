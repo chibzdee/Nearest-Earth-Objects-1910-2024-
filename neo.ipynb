
 "cells": [
  {
   "cell_type": "markdown",
   "metadata": {},
   "source": [
    "DATASET: https://www.kaggle.com/datasets/ivansher/nasa-nearest-earth-objects-1910-2024/discussion?sort=hotness"
   ]
  },
  {
   "cell_type": "code",
   "execution_count": 50,
   "metadata": {},
   "outputs": [],
   "source": [
    "import pandas as pd\n",
    "import numpy as np\n",
    "import seaborn as sns\n",
    "import matplotlib.pyplot as plt"
   ]
  },
  {
   "cell_type": "code",
   "execution_count": 51,
   "metadata": {},
   "outputs": [],
   "source": [
    "df = pd.read_csv('nearest-earth-objects(1910-2024).csv')"
   ]
  },
  {
   "cell_type": "code",
   "execution_count": 52,
   "metadata": {},
   "outputs": [
    {
     "data": {
      "text/html": [
       "<div>\n",
       "<style scoped>\n",
       "    .dataframe tbody tr th:only-of-type {\n",
       "        vertical-align: middle;\n",
       "    }\n",
       "\n",
       "    .dataframe tbody tr th {\n",
       "        vertical-align: top;\n",
       "    }\n",
       "\n",
       "    .dataframe thead th {\n",
       "        text-align: right;\n",
       "    }\n",
       "</style>\n",
       "<table border=\"1\" class=\"dataframe\">\n",
       "  <thead>\n",
       "    <tr style=\"text-align: right;\">\n",
       "      <th></th>\n",
       "      <th>neo_id</th>\n",
       "      <th>name</th>\n",
       "      <th>absolute_magnitude</th>\n",
       "      <th>estimated_diameter_min</th>\n",
       "      <th>estimated_diameter_max</th>\n",
       "      <th>orbiting_body</th>\n",
       "      <th>relative_velocity</th>\n",
       "      <th>miss_distance</th>\n",
       "      <th>is_hazardous</th>\n",
       "    </tr>\n",
       "  </thead>\n",
       "  <tbody>\n",
       "    <tr>\n",
       "      <th>0</th>\n",
       "      <td>2162117</td>\n",
       "      <td>162117 (1998 SD15)</td>\n",
       "      <td>19.14</td>\n",
       "      <td>0.394962</td>\n",
       "      <td>0.883161</td>\n",
       "      <td>Earth</td>\n",
       "      <td>71745.401048</td>\n",
       "      <td>5.814362e+07</td>\n",
       "      <td>False</td>\n",
       "    </tr>\n",
       "    <tr>\n",
       "      <th>1</th>\n",
       "      <td>2349507</td>\n",
       "      <td>349507 (2008 QY)</td>\n",
       "      <td>18.50</td>\n",
       "      <td>0.530341</td>\n",
       "      <td>1.185878</td>\n",
       "      <td>Earth</td>\n",
       "      <td>109949.757148</td>\n",
       "      <td>5.580105e+07</td>\n",
       "      <td>True</td>\n",
       "    </tr>\n",
       "    <tr>\n",
       "      <th>2</th>\n",
       "      <td>2455415</td>\n",
       "      <td>455415 (2003 GA)</td>\n",
       "      <td>21.45</td>\n",
       "      <td>0.136319</td>\n",
       "      <td>0.304818</td>\n",
       "      <td>Earth</td>\n",
       "      <td>24865.506798</td>\n",
       "      <td>6.720689e+07</td>\n",
       "      <td>False</td>\n",
       "    </tr>\n",
       "    <tr>\n",
       "      <th>3</th>\n",
       "      <td>3132126</td>\n",
       "      <td>(2002 PB)</td>\n",
       "      <td>20.63</td>\n",
       "      <td>0.198863</td>\n",
       "      <td>0.444672</td>\n",
       "      <td>Earth</td>\n",
       "      <td>78890.076805</td>\n",
       "      <td>3.039644e+07</td>\n",
       "      <td>False</td>\n",
       "    </tr>\n",
       "    <tr>\n",
       "      <th>4</th>\n",
       "      <td>3557844</td>\n",
       "      <td>(2011 DW)</td>\n",
       "      <td>22.70</td>\n",
       "      <td>0.076658</td>\n",
       "      <td>0.171412</td>\n",
       "      <td>Earth</td>\n",
       "      <td>56036.519484</td>\n",
       "      <td>6.311863e+07</td>\n",
       "      <td>False</td>\n",
       "    </tr>\n",
       "  </tbody>\n",
       "</table>\n",
       "</div>"
      ],
      "text/plain": [
       "    neo_id                name  absolute_magnitude  estimated_diameter_min  \\\n",
       "0  2162117  162117 (1998 SD15)               19.14                0.394962   \n",
       "1  2349507    349507 (2008 QY)               18.50                0.530341   \n",
       "2  2455415    455415 (2003 GA)               21.45                0.136319   \n",
       "3  3132126           (2002 PB)               20.63                0.198863   \n",
       "4  3557844           (2011 DW)               22.70                0.076658   \n",
       "\n",
       "   estimated_diameter_max orbiting_body  relative_velocity  miss_distance  \\\n",
       "0                0.883161         Earth       71745.401048   5.814362e+07   \n",
       "1                1.185878         Earth      109949.757148   5.580105e+07   \n",
       "2                0.304818         Earth       24865.506798   6.720689e+07   \n",
       "3                0.444672         Earth       78890.076805   3.039644e+07   \n",
       "4                0.171412         Earth       56036.519484   6.311863e+07   \n",
       "\n",
       "   is_hazardous  \n",
       "0         False  \n",
       "1          True  \n",
       "2         False  \n",
       "3         False  \n",
       "4         False  "
      ]
     },
     "execution_count": 52,
     "metadata": {},
     "output_type": "execute_result"
    }
   ],
   "source": [
    "df.head()"
   ]
  },
  {
   "cell_type": "code",
   "execution_count": 53,
   "metadata": {},
   "outputs": [
    {
     "data": {
      "text/plain": [
       "array(['Earth'], dtype=object)"
      ]
     },
     "execution_count": 53,
     "metadata": {},
     "output_type": "execute_result"
    }
   ],
   "source": [
    "df['orbiting_body'].unique()"
   ]
  },
  {
   "cell_type": "code",
   "execution_count": 54,
   "metadata": {},
   "outputs": [
    {
     "name": "stdout",
     "output_type": "stream",
     "text": [
      "<class 'pandas.core.frame.DataFrame'>\n",
      "RangeIndex: 338199 entries, 0 to 338198\n",
      "Data columns (total 9 columns):\n",
      " #   Column                  Non-Null Count   Dtype  \n",
      "---  ------                  --------------   -----  \n",
      " 0   neo_id                  338199 non-null  int64  \n",
      " 1   name                    338199 non-null  object \n",
      " 2   absolute_magnitude      338171 non-null  float64\n",
      " 3   estimated_diameter_min  338171 non-null  float64\n",
      " 4   estimated_diameter_max  338171 non-null  float64\n",
      " 5   orbiting_body           338199 non-null  object \n",
      " 6   relative_velocity       338199 non-null  float64\n",
      " 7   miss_distance           338199 non-null  float64\n",
      " 8   is_hazardous            338199 non-null  bool   \n",
      "dtypes: bool(1), float64(5), int64(1), object(2)\n",
      "memory usage: 21.0+ MB\n"
     ]
    }
   ],
   "source": [
    "df.info()"
   ]
  },
  {
   "cell_type": "code",
   "execution_count": 55,
   "metadata": {},
   "outputs": [
    {
     "data": {
      "text/plain": [
       "neo_id                     0\n",
       "name                       0\n",
       "absolute_magnitude        28\n",
       "estimated_diameter_min    28\n",
       "estimated_diameter_max    28\n",
       "orbiting_body              0\n",
       "relative_velocity          0\n",
       "miss_distance              0\n",
       "is_hazardous               0\n",
       "dtype: int64"
      ]
     },
     "execution_count": 55,
     "metadata": {},
     "output_type": "execute_result"
    }
   ],
   "source": [
    "df.isna().sum()"
   ]
  },
  {
   "cell_type": "code",
   "execution_count": 56,
   "metadata": {},
   "outputs": [],
   "source": [
    "def percent_missing(data):\n",
    "    perc_missing = (100 * df.isnull().sum()/len(df))\n",
    "    return perc_missing[perc_missing > 0].sort_values()"
   ]
  },
  {
   "cell_type": "code",
   "execution_count": 57,
   "metadata": {},
   "outputs": [
    {
     "data": {
      "text/plain": [
       "absolute_magnitude        0.008279\n",
       "estimated_diameter_min    0.008279\n",
       "estimated_diameter_max    0.008279\n",
       "dtype: float64"
      ]
     },
     "execution_count": 57,
     "metadata": {},
     "output_type": "execute_result"
    }
   ],
   "source": [
    "percent_missing(df)"
   ]
  },
  {
   "cell_type": "code",
   "execution_count": 58,
   "metadata": {},
   "outputs": [
    {
     "data": {
      "text/plain": [
       "numpy.float64"
      ]
     },
     "execution_count": 58,
     "metadata": {},
     "output_type": "execute_result"
    }
   ],
   "source": [
    "type(df['estimated_diameter_max'][0])"
   ]
  },
  {
   "cell_type": "code",
   "execution_count": 59,
   "metadata": {},
   "outputs": [],
   "source": [
    "df['estimated_diameter_max'] = df['estimated_diameter_max'].fillna(0)\n",
    "df['absolute_magnitude'] = df['absolute_magnitude'].fillna(0)\n",
    "df['estimated_diameter_min'] = df['estimated_diameter_min'].fillna(0)"
   ]
  },
  {
   "cell_type": "code",
   "execution_count": 60,
   "metadata": {},
   "outputs": [
    {
     "data": {
      "text/plain": [
       "neo_id                    0\n",
       "name                      0\n",
       "absolute_magnitude        0\n",
       "estimated_diameter_min    0\n",
       "estimated_diameter_max    0\n",
       "orbiting_body             0\n",
       "relative_velocity         0\n",
       "miss_distance             0\n",
       "is_hazardous              0\n",
       "dtype: int64"
      ]
     },
     "execution_count": 60,
     "metadata": {},
     "output_type": "execute_result"
    }
   ],
   "source": [
    "df.isna().sum()"
   ]
  },
  {
   "cell_type": "code",
   "execution_count": 61,
   "metadata": {},
   "outputs": [
    {
     "data": {
      "text/plain": [
       "<Axes: xlabel='is_hazardous', ylabel='count'>"
      ]
     },
     "execution_count": 61,
     "metadata": {},
     "output_type": "execute_result"
    },
    {
     "data": {
      "image/png": "iVBORw0KGgoAAAANSUhEUgAAAlUAAAGxCAYAAABLO0O7AAAAOXRFWHRTb2Z0d2FyZQBNYXRwbG90bGliIHZlcnNpb24zLjkuMCwgaHR0cHM6Ly9tYXRwbG90bGliLm9yZy80BEi2AAAACXBIWXMAAA9hAAAPYQGoP6dpAAA0X0lEQVR4nO3de1TVdb7/8dcG5eJlgxcuMuIt80IiFhoyU5bKiGadTGvUPHktR0MLKW8zhdppDpOtLmZepjojNkcns0mbNClCxTFJE4fxCsdMf9jSrU4JO1EB4fv7o8V3uRMT6WMb9PlY67uW3+/n/f3s996t3X6t7w2HZVmWAAAA8JP4eLsBAACA6wGhCgAAwABCFQAAgAGEKgAAAAMIVQAAAAYQqgAAAAwgVAEAABhAqAIAADCggbcbuJFUVlbq2LFjatq0qRwOh7fbAQAANWBZlr777jtFRETIx+fyx6MIVT+jY8eOKTIy0tttAACAWjh69Khat2592XFC1c+oadOmkr7/j+J0Or3cDQAAqAm3263IyEj7d/xyCFU/o6pTfk6nk1AFAEA9c6VLd7hQHQAAwABCFQAAgAGEKgAAAAMIVQAAAAZ4NVQtWbJE3bt3ty/cjo+P14YNG+zx8+fPKykpSS1atFCTJk00bNgwnThxwmOOwsJCDR48WI0aNVJoaKimT5+uCxcueNRs3rxZt912m/z9/dWxY0elp6df0suiRYvUrl07BQQEKC4uTjt27PAYr0kvAADgxuXVUNW6dWv98Y9/VG5urnbu3Kl+/frp/vvv1759+yRJ06ZN04cffqjVq1crOztbx44d09ChQ+39KyoqNHjwYJWVlWnbtm1avny50tPTlZqaatccPnxYgwcPVt++fZWXl6fk5GQ9+uij+vjjj+2aVatWKSUlRXPmzNGuXbsUExOjxMREnTx50q65Ui8AAOAGZ9UxzZo1s9566y2rqKjIatiwobV69Wp77MCBA5YkKycnx7Isy/roo48sHx8fy+Vy2TVLliyxnE6nVVpaalmWZc2YMcO65ZZbPF5j+PDhVmJior1+++23W0lJSfZ6RUWFFRERYaWlpVmWZdWol5ooLi62JFnFxcU13gcAAHhXTX+/68w1VRUVFXrnnXdUUlKi+Ph45ebmqry8XAkJCXZNly5d1KZNG+Xk5EiScnJyFB0drbCwMLsmMTFRbrfbPtqVk5PjMUdVTdUcZWVlys3N9ajx8fFRQkKCXVOTXgAAwI3N6w//3LNnj+Lj43X+/Hk1adJEa9asUVRUlPLy8uTn56fg4GCP+rCwMLlcLkmSy+XyCFRV41VjP1bjdrt17tw5nT59WhUVFdXW5Ofn23NcqZfqlJaWqrS01F53u91X+DQAAEB95fUjVZ07d1ZeXp62b9+uyZMna8yYMdq/f7+32zIiLS1NQUFB9sLf/QMA4Prl9VDl5+enjh07KjY2VmlpaYqJidGCBQsUHh6usrIyFRUVedSfOHFC4eHhkqTw8PBL7sCrWr9SjdPpVGBgoFq2bClfX99qay6e40q9VGf27NkqLi62l6NHj9bsQwEAAPWO10PVD1VWVqq0tFSxsbFq2LChsrKy7LGCggIVFhYqPj5ekhQfH689e/Z43KWXmZkpp9OpqKgou+biOapqqubw8/NTbGysR01lZaWysrLsmpr0Uh1/f3/7cRH8vT8AAK5zP9OF89WaNWuWlZ2dbR0+fNjavXu3NWvWLMvhcFiffPKJZVmWNWnSJKtNmzbWxo0brZ07d1rx8fFWfHy8vf+FCxesbt26WQMGDLDy8vKsjIwMKyQkxJo9e7Zd89VXX1mNGjWypk+fbh04cMBatGiR5evra2VkZNg177zzjuXv72+lp6db+/fvtyZOnGgFBwd73FV4pV5qgrv/AACof2r6++3VUDV+/Hirbdu2lp+fnxUSEmL179/fDlSWZVnnzp2zHn/8catZs2ZWo0aNrAceeMA6fvy4xxxHjhyxBg0aZAUGBlotW7a0nnrqKau8vNyjZtOmTVaPHj0sPz8/q0OHDtayZcsu6WXhwoVWmzZtLD8/P+v222+3Pv/8c4/xmvRyJYQqAADqn5r+fjssy7K8e6zsxuF2uxUUFKTi4mJOBQIAUE/U9Pfb649UgHmx09/2dgtAnZP74mhvtwDgOlfnLlQHAACojwhVAAAABhCqAAAADCBUAQAAGECoAgAAMIBQBQAAYAChCgAAwABCFQAAgAGEKgAAAAMIVQAAAAYQqgAAAAwgVAEAABhAqAIAADCAUAUAAGAAoQoAAMAAQhUAAIABhCoAAAADCFUAAAAGEKoAAAAMIFQBAAAYQKgCAAAwgFAFAABgAKEKAADAAEIVAACAAYQqAAAAAwhVAAAABhCqAAAADCBUAQAAGECoAgAAMIBQBQAAYAChCgAAwABCFQAAgAGEKgAAAAMIVQAAAAYQqgAAAAwgVAEAABhAqAIAADCAUAUAAGAAoQoAAMAAQhUAAIABhCoAAAADCFUAAAAGEKoAAAAMIFQBAAAYQKgCAAAwgFAFAABgAKEKAADAAEIVAACAAV4NVWlpaerVq5eaNm2q0NBQDRkyRAUFBR41d999txwOh8cyadIkj5rCwkINHjxYjRo1UmhoqKZPn64LFy541GzevFm33Xab/P391bFjR6Wnp1/Sz6JFi9SuXTsFBAQoLi5OO3bs8Bg/f/68kpKS1KJFCzVp0kTDhg3TiRMnzHwYAACgXvNqqMrOzlZSUpI+//xzZWZmqry8XAMGDFBJSYlH3WOPPabjx4/by/z58+2xiooKDR48WGVlZdq2bZuWL1+u9PR0paam2jWHDx/W4MGD1bdvX+Xl5Sk5OVmPPvqoPv74Y7tm1apVSklJ0Zw5c7Rr1y7FxMQoMTFRJ0+etGumTZumDz/8UKtXr1Z2draOHTumoUOHXsNPCAAA1BcOy7IsbzdR5dSpUwoNDVV2drb69Okj6fsjVT169NCrr75a7T4bNmzQvffeq2PHjiksLEyStHTpUs2cOVOnTp2Sn5+fZs6cqfXr12vv3r32fiNGjFBRUZEyMjIkSXFxcerVq5def/11SVJlZaUiIyM1depUzZo1S8XFxQoJCdHKlSv14IMPSpLy8/PVtWtX5eTkqHfv3ld8f263W0FBQSouLpbT6az153QlsdPfvmZzA/VV7oujvd0CgHqqpr/fdeqaquLiYklS8+bNPbavWLFCLVu2VLdu3TR79mydPXvWHsvJyVF0dLQdqCQpMTFRbrdb+/bts2sSEhI85kxMTFROTo4kqaysTLm5uR41Pj4+SkhIsGtyc3NVXl7uUdOlSxe1adPGrvmh0tJSud1ujwUAAFyfGni7gSqVlZVKTk7Wr371K3Xr1s3e/vDDD6tt27aKiIjQ7t27NXPmTBUUFOj999+XJLlcLo9AJcled7lcP1rjdrt17tw5nT59WhUVFdXW5Ofn23P4+fkpODj4kpqq1/mhtLQ0zZs37yo/CQAAUB/VmVCVlJSkvXv3auvWrR7bJ06caP87OjparVq1Uv/+/XXo0CHddNNNP3ebV2X27NlKSUmx191utyIjI73YEQAAuFbqxOm/KVOmaN26ddq0aZNat279o7VxcXGSpC+//FKSFB4efskdeFXr4eHhP1rjdDoVGBioli1bytfXt9qai+coKytTUVHRZWt+yN/fX06n02MBAADXJ6+GKsuyNGXKFK1Zs0YbN25U+/btr7hPXl6eJKlVq1aSpPj4eO3Zs8fjLr3MzEw5nU5FRUXZNVlZWR7zZGZmKj4+XpLk5+en2NhYj5rKykplZWXZNbGxsWrYsKFHTUFBgQoLC+0aAABw4/Lq6b+kpCStXLlSH3zwgZo2bWpfmxQUFKTAwEAdOnRIK1eu1D333KMWLVpo9+7dmjZtmvr06aPu3btLkgYMGKCoqCg98sgjmj9/vlwul5555hklJSXJ399fkjRp0iS9/vrrmjFjhsaPH6+NGzfq3Xff1fr16+1eUlJSNGbMGPXs2VO33367Xn31VZWUlGjcuHF2TxMmTFBKSoqaN28up9OpqVOnKj4+vkZ3/gEAgOubV0PVkiVLJH3/2ISLLVu2TGPHjpWfn58+/fRTO+BERkZq2LBheuaZZ+xaX19frVu3TpMnT1Z8fLwaN26sMWPG6LnnnrNr2rdvr/Xr12vatGlasGCBWrdurbfeekuJiYl2zfDhw3Xq1CmlpqbK5XKpR48eysjI8Lh4/ZVXXpGPj4+GDRum0tJSJSYmavHixdfo0wEAAPVJnXpO1fWO51QB3sNzqgDUVr18ThUAAEB9RagCAAAwgFAFAABgAKEKAADAAEIVAACAAYQqAAAAAwhVAAAABhCqAAAADCBUAQAAGECoAgAAMIBQBQAAYAChCgAAwABCFQAAgAGEKgAAAAMIVQAAAAYQqgAAAAwgVAEAABhAqAIAADCAUAUAAGAAoQoAAMAAQhUAAIABhCoAAAADCFUAAAAGEKoAAAAMIFQBAAAYQKgCAAAwgFAFAABgAKEKAADAAEIVAACAAYQqAAAAAwhVAAAABhCqAAAADCBUAQAAGECoAgAAMIBQBQAAYAChCgAAwABCFQAAgAGEKgAAAAMIVQAAAAYQqgAAAAwgVAEAABhAqAIAADCAUAUAAGAAoQoAAMAAQhUAAIABhCoAAAADCFUAAAAGEKoAAAAM8GqoSktLU69evdS0aVOFhoZqyJAhKigo8Kg5f/68kpKS1KJFCzVp0kTDhg3TiRMnPGoKCws1ePBgNWrUSKGhoZo+fbouXLjgUbN582bddttt8vf3V8eOHZWenn5JP4sWLVK7du0UEBCguLg47dix46p7AQAANyavhqrs7GwlJSXp888/V2ZmpsrLyzVgwACVlJTYNdOmTdOHH36o1atXKzs7W8eOHdPQoUPt8YqKCg0ePFhlZWXatm2bli9frvT0dKWmpto1hw8f1uDBg9W3b1/l5eUpOTlZjz76qD7++GO7ZtWqVUpJSdGcOXO0a9cuxcTEKDExUSdPnqxxLwAA4MblsCzL8nYTVU6dOqXQ0FBlZ2erT58+Ki4uVkhIiFauXKkHH3xQkpSfn6+uXbsqJydHvXv31oYNG3Tvvffq2LFjCgsLkyQtXbpUM2fO1KlTp+Tn56eZM2dq/fr12rt3r/1aI0aMUFFRkTIyMiRJcXFx6tWrl15//XVJUmVlpSIjIzV16lTNmjWrRr1cidvtVlBQkIqLi+V0Oo1+dheLnf72NZsbqK9yXxzt7RYA1FM1/f2uU9dUFRcXS5KaN28uScrNzVV5ebkSEhLsmi5duqhNmzbKycmRJOXk5Cg6OtoOVJKUmJgot9utffv22TUXz1FVUzVHWVmZcnNzPWp8fHyUkJBg19SkFwAAcONq4O0GqlRWVio5OVm/+tWv1K1bN0mSy+WSn5+fgoODPWrDwsLkcrnsmosDVdV41diP1bjdbp07d06nT59WRUVFtTX5+fk17uWHSktLVVpaaq+73e4rfQwAAKCeqjNHqpKSkrR3716988473m7FmLS0NAUFBdlLZGSkt1sCAADXSJ0IVVOmTNG6deu0adMmtW7d2t4eHh6usrIyFRUVedSfOHFC4eHhds0P78CrWr9SjdPpVGBgoFq2bClfX99qay6e40q9/NDs2bNVXFxsL0ePHq3BpwEAAOojr4Yqy7I0ZcoUrVmzRhs3blT79u09xmNjY9WwYUNlZWXZ2woKClRYWKj4+HhJUnx8vPbs2eNxl15mZqacTqeioqLsmovnqKqpmsPPz0+xsbEeNZWVlcrKyrJratLLD/n7+8vpdHosAADg+uTVa6qSkpK0cuVKffDBB2ratKl9bVJQUJACAwMVFBSkCRMmKCUlRc2bN5fT6dTUqVMVHx9v3203YMAARUVF6ZFHHtH8+fPlcrn0zDPPKCkpSf7+/pKkSZMm6fXXX9eMGTM0fvx4bdy4Ue+++67Wr19v95KSkqIxY8aoZ8+euv322/Xqq6+qpKRE48aNs3u6Ui8AAODG5dVQtWTJEknS3Xff7bF92bJlGjt2rCTplVdekY+Pj4YNG6bS0lIlJiZq8eLFdq2vr6/WrVunyZMnKz4+Xo0bN9aYMWP03HPP2TXt27fX+vXrNW3aNC1YsECtW7fWW2+9pcTERLtm+PDhOnXqlFJTU+VyudSjRw9lZGR4XLx+pV4AAMCNq049p+p6x3OqAO/hOVUAaqtePqcKAACgviJUAQAAGECoAgAAMIBQBQAAYAChCgAAwABCFQAAgAGEKgAAAAMIVQAAAAYQqgAAAAwgVAEAABhAqAIAADCAUAUAAGAAoQoAAMAAQhUAAIABhCoAAAADCFUAAAAGEKoAAAAMIFQBAAAYQKgCAAAwgFAFAABgAKEKAADAAEIVAACAAYQqAAAAAwhVAAAABhCqAAAADCBUAQAAGECoAgAAMIBQBQAAYAChCgAAwABCFQAAgAG1ClX9+vVTUVHRJdvdbrf69ev3U3sCAACod2oVqjZv3qyysrJLtp8/f17/+Mc/fnJTAAAA9U2DqynevXu3/e/9+/fL5XLZ6xUVFcrIyNAvfvELc90BAADUE1cVqnr06CGHwyGHw1Htab7AwEAtXLjQWHMAAAD1xVWFqsOHD8uyLHXo0EE7duxQSEiIPebn56fQ0FD5+voabxIAAKCuu6pQ1bZtW0lSZWXlNWkGAACgvrqqUHWxgwcPatOmTTp58uQlISs1NfUnNwYAAFCf1CpUvfnmm5o8ebJatmyp8PBwORwOe8zhcBCqAADADadWoer555/XH/7wB82cOdN0PwAAAPVSrZ5Tdfr0aT300EOmewEAAKi3ahWqHnroIX3yySemewEAAKi3anX6r2PHjnr22Wf1+eefKzo6Wg0bNvQYf+KJJ4w0BwAAUF/UKlS98cYbatKkibKzs5Wdne0x5nA4CFUAAOCGU6tQdfjwYdN9AAAA1Gu1uqYKAAAAnmp1pGr8+PE/Ov7nP/+5Vs0AAADUV7UKVadPn/ZYLy8v1969e1VUVFTtH1oGAAC43tUqVK1Zs+aSbZWVlZo8ebJuuummn9wUAABAfWPsmiofHx+lpKTolVdeMTUlAABAvWH0QvVDhw7pwoULNa7fsmWL7rvvPkVERMjhcGjt2rUe42PHjpXD4fBYBg4c6FHz7bffatSoUXI6nQoODtaECRN05swZj5rdu3frzjvvVEBAgCIjIzV//vxLelm9erW6dOmigIAARUdH66OPPvIYtyxLqampatWqlQIDA5WQkKCDBw/W+L0CAIDrW61O/6WkpHisW5al48ePa/369RozZkyN5ykpKVFMTIzGjx+voUOHVlszcOBALVu2zF739/f3GB81apSOHz+uzMxMlZeXa9y4cZo4caJWrlwpSXK73RowYIASEhK0dOlS7dmzR+PHj1dwcLAmTpwoSdq2bZtGjhyptLQ03XvvvVq5cqWGDBmiXbt2qVu3bpKk+fPn67XXXtPy5cvVvn17Pfvss0pMTNT+/fsVEBBQ4/cMAACuTw7Lsqyr3alv374e6z4+PgoJCVG/fv00fvx4NWhw9VnN4XBozZo1GjJkiL1t7NixKioquuQIVpUDBw4oKipKX3zxhXr27ClJysjI0D333KOvv/5aERERWrJkiX7/+9/L5XLJz89PkjRr1iytXbtW+fn5kqThw4erpKRE69ats+fu3bu3evTooaVLl8qyLEVEROipp57S008/LUkqLi5WWFiY0tPTNWLEiBq9R7fbraCgIBUXF8vpdF7tR1RjsdPfvmZzA/VV7oujvd0CgHqqpr/ftTpStWnTplo3drU2b96s0NBQNWvWTP369dPzzz+vFi1aSJJycnIUHBxsBypJSkhIkI+Pj7Zv364HHnhAOTk56tOnjx2oJCkxMVEvvPCCTp8+rWbNmiknJ+eSo2+JiYl2mDt8+LBcLpcSEhLs8aCgIMXFxSknJ6fGoQoAAFy/ahWqqpw6dUoFBQWSpM6dOyskJMRIU1UGDhyooUOHqn379jp06JB+97vfadCgQcrJyZGvr69cLpdCQ0M99mnQoIGaN28ul8slSXK5XGrfvr1HTVhYmD3WrFkzuVwue9vFNRfPcfF+1dVUp7S0VKWlpfa62+2+mrcPAADqkVqFqpKSEk2dOlVvv/22KisrJUm+vr4aPXq0Fi5cqEaNGhlp7uIjQNHR0erevbtuuukmbd68Wf379zfyGtdSWlqa5s2b5+02AADAz6BWd/+lpKQoOztbH374oYqKilRUVKQPPvhA2dnZeuqpp0z3aOvQoYNatmypL7/8UpIUHh6ukydPetRcuHBB3377rcLDw+2aEydOeNRUrV+p5uLxi/errqY6s2fPVnFxsb0cPXr0qt4vAACoP2oVqv72t7/pf/7nfzRo0CA5nU45nU7dc889evPNN/Xee++Z7tH29ddf65tvvlGrVq0kSfHx8SoqKlJubq5ds3HjRlVWViouLs6u2bJli8rLy+2azMxMde7cWc2aNbNrsrKyPF4rMzNT8fHxkqT27dsrPDzco8btdmv79u12TXX8/f3tz6dqAQAA16dahaqzZ89ecn2RJIWGhurs2bM1nufMmTPKy8tTXl6epO8vCM/Ly1NhYaHOnDmj6dOn6/PPP9eRI0eUlZWl+++/Xx07dlRiYqIkqWvXrho4cKAee+wx7dixQ5999pmmTJmiESNGKCIiQpL08MMPy8/PTxMmTNC+ffu0atUqLViwwOPC9CeffFIZGRl66aWXlJ+fr7lz52rnzp2aMmWKpO/vTExOTtbzzz+vv//979qzZ49Gjx6tiIgIj7sVAQDAjatWoSo+Pl5z5szR+fPn7W3nzp3TvHnzfvTIzQ/t3LlTt956q2699VZJ359WvPXWW5WamipfX1/t3r1b//Ef/6FOnTppwoQJio2N1T/+8Q+PZ1WtWLFCXbp0Uf/+/XXPPffojjvu0BtvvGGPBwUF6ZNPPtHhw4cVGxurp556SqmpqfYzqiTpl7/8pVauXKk33nhDMTExeu+997R27Vr7GVWSNGPGDE2dOlUTJ05Ur169dObMGWVkZPCMKgAAIKmWz6nas2ePBg4cqNLSUsXExEiS/vWvf8nf31+ffPKJbrnlFuONXg94ThXgPTynCkBtXdPnVEVHR+vgwYNasWKF/QDNkSNHatSoUQoMDKxdxwAAAPVYrUJVWlqawsLC9Nhjj3ls//Of/6xTp05p5syZRpoDAACoL2p1TdWf/vQndenS5ZLtt9xyi5YuXfqTmwIAAKhvahWqXC6X/ViDi4WEhOj48eM/uSkAAID6plahKjIyUp999tkl2z/77DP7UQYAAAA3klpdU/XYY48pOTlZ5eXl6tevnyQpKytLM2bMuKZPVAcAAKirahWqpk+frm+++UaPP/64ysrKJEkBAQGaOXOmZs+ebbRBAACA+qBWocrhcOiFF17Qs88+qwMHDigwMFA333yzx0M5AQAAbiS1ClVVmjRpol69epnqBQAAoN6q1YXqAAAA8ESoAgAAMIBQBQAAYAChCgAAwABCFQAAgAGEKgAAAAMIVQAAAAYQqgAAAAwgVAEAABhAqAIAADCAUAUAAGAAoQoAAMAAQhUAAIABhCoAAAADCFUAAAAGEKoAAAAMIFQBAAAYQKgCAAAwgFAFAABgAKEKAADAAEIVAACAAYQqAAAAAwhVAAAABhCqAAAADCBUAQAAGECoAgAAMIBQBQAAYAChCgAAwABCFQAAgAGEKgAAAAMIVQAAAAYQqgAAAAwgVAEAABhAqAIAADCAUAUAAGAAoQoAAMAAQhUAAIABhCoAAAADCFUAAAAGEKoAAAAM8Gqo2rJli+677z5FRETI4XBo7dq1HuOWZSk1NVWtWrVSYGCgEhISdPDgQY+ab7/9VqNGjZLT6VRwcLAmTJigM2fOeNTs3r1bd955pwICAhQZGan58+df0svq1avVpUsXBQQEKDo6Wh999NFV9wIAAG5cXg1VJSUliomJ0aJFi6odnz9/vl577TUtXbpU27dvV+PGjZWYmKjz58/bNaNGjdK+ffuUmZmpdevWacuWLZo4caI97na7NWDAALVt21a5ubl68cUXNXfuXL3xxht2zbZt2zRy5EhNmDBB//znPzVkyBANGTJEe/fuvapeAADAjcthWZbl7SYkyeFwaM2aNRoyZIik748MRURE6KmnntLTTz8tSSouLlZYWJjS09M1YsQIHThwQFFRUfriiy/Us2dPSVJGRobuueceff3114qIiNCSJUv0+9//Xi6XS35+fpKkWbNmae3atcrPz5ckDR8+XCUlJVq3bp3dT+/evdWjRw8tXbq0Rr3UhNvtVlBQkIqLi+V0Oo18btWJnf72NZsbqK9yXxzt7RYA1FM1/f2us9dUHT58WC6XSwkJCfa2oKAgxcXFKScnR5KUk5Oj4OBgO1BJUkJCgnx8fLR9+3a7pk+fPnagkqTExEQVFBTo9OnTds3Fr1NVU/U6NemlOqWlpXK73R4LAAC4PtXZUOVyuSRJYWFhHtvDwsLsMZfLpdDQUI/xBg0aqHnz5h411c1x8Wtcrubi8Sv1Up20tDQFBQXZS2Rk5BXeNQAAqK/qbKi6HsyePVvFxcX2cvToUW+3BAAArpE6G6rCw8MlSSdOnPDYfuLECXssPDxcJ0+e9Bi/cOGCvv32W4+a6ua4+DUuV3Px+JV6qY6/v7+cTqfHAgAArk91NlS1b99e4eHhysrKsre53W5t375d8fHxkqT4+HgVFRUpNzfXrtm4caMqKysVFxdn12zZskXl5eV2TWZmpjp37qxmzZrZNRe/TlVN1evUpBcAAHBj82qoOnPmjPLy8pSXlyfp+wvC8/LyVFhYKIfDoeTkZD3//PP6+9//rj179mj06NGKiIiw7xDs2rWrBg4cqMcee0w7duzQZ599pilTpmjEiBGKiIiQJD388MPy8/PThAkTtG/fPq1atUoLFixQSkqK3ceTTz6pjIwMvfTSS8rPz9fcuXO1c+dOTZkyRZJq1AsAALixNfDmi+/cuVN9+/a116uCzpgxY5Senq4ZM2aopKREEydOVFFRke644w5lZGQoICDA3mfFihWaMmWK+vfvLx8fHw0bNkyvvfaaPR4UFKRPPvlESUlJio2NVcuWLZWamurxLKtf/vKXWrlypZ555hn97ne/080336y1a9eqW7dudk1NegEAADeuOvOcqhsBz6kCvIfnVAGorXr/nCoAAID6hFAFAABgAKEKAADAAEIVAACAAYQqAAAAAwhVAAAABhCqAAAADCBUAQAAGECoAgAAMIBQBQAAYAChCgAAwABCFQAAgAGEKgAAAAMIVQAAAAYQqgAAAAwgVAEAABhAqAIAADCAUAUAAGAAoQoAAMAAQhUAAIABhCoAAAADCFUAAAAGEKoAAAAMIFQBAAAYQKgCAAAwgFAFAABgAKEKAADAAEIVAACAAYQqAAAAAwhVAAAABhCqAAAADCBUAQAAGECoAgAAMIBQBQAAYAChCgAAwABCFQAAgAGEKgAAAAMIVQAAAAYQqgAAAAwgVAEAABhAqAIAADCAUAUAAGAAoQoAAMAAQhUAAIABhCoAAAADCFUAAAAGEKoAAAAMIFQBAAAYUKdD1dy5c+VwODyWLl262OPnz59XUlKSWrRooSZNmmjYsGE6ceKExxyFhYUaPHiwGjVqpNDQUE2fPl0XLlzwqNm8ebNuu+02+fv7q2PHjkpPT7+kl0WLFqldu3YKCAhQXFycduzYcU3eMwAAqJ/qdKiSpFtuuUXHjx+3l61bt9pj06ZN04cffqjVq1crOztbx44d09ChQ+3xiooKDR48WGVlZdq2bZuWL1+u9PR0paam2jWHDx/W4MGD1bdvX+Xl5Sk5OVmPPvqoPv74Y7tm1apVSklJ0Zw5c7Rr1y7FxMQoMTFRJ0+e/Hk+BAAAUOc5LMuyvN3E5cydO1dr165VXl7eJWPFxcUKCQnRypUr9eCDD0qS8vPz1bVrV+Xk5Kh3797asGGD7r33Xh07dkxhYWGSpKVLl2rmzJk6deqU/Pz8NHPmTK1fv1579+615x4xYoSKioqUkZEhSYqLi1OvXr30+uuvS5IqKysVGRmpqVOnatasWTV+P263W0FBQSouLpbT6aztx3JFsdPfvmZzA/VV7oujvd0CgHqqpr/fdf5I1cGDBxUREaEOHTpo1KhRKiwslCTl5uaqvLxcCQkJdm2XLl3Upk0b5eTkSJJycnIUHR1tBypJSkxMlNvt1r59++yai+eoqqmao6ysTLm5uR41Pj4+SkhIsGsAAAAaeLuBHxMXF6f09HR17txZx48f17x583TnnXdq7969crlc8vPzU3BwsMc+YWFhcrlckiSXy+URqKrGq8Z+rMbtduvcuXM6ffq0Kioqqq3Jz8//0f5LS0tVWlpqr7vd7pq/eQAAUK/U6VA1aNAg+9/du3dXXFyc2rZtq3fffVeBgYFe7Kxm0tLSNG/ePG+3AQAAfgZ1/vTfxYKDg9WpUyd9+eWXCg8PV1lZmYqKijxqTpw4ofDwcElSeHj4JXcDVq1fqcbpdCowMFAtW7aUr69vtTVVc1zO7NmzVVxcbC9Hjx696vcMAADqh3oVqs6cOaNDhw6pVatWio2NVcOGDZWVlWWPFxQUqLCwUPHx8ZKk+Ph47dmzx+MuvczMTDmdTkVFRdk1F89RVVM1h5+fn2JjYz1qKisrlZWVZddcjr+/v5xOp8cCAACuT3U6VD399NPKzs7WkSNHtG3bNj3wwAPy9fXVyJEjFRQUpAkTJiglJUWbNm1Sbm6uxo0bp/j4ePXu3VuSNGDAAEVFRemRRx7Rv/71L3388cd65plnlJSUJH9/f0nSpEmT9NVXX2nGjBnKz8/X4sWL9e6772ratGl2HykpKXrzzTe1fPlyHThwQJMnT1ZJSYnGjRvnlc8FAADUPXX6mqqvv/5aI0eO1DfffKOQkBDdcccd+vzzzxUSEiJJeuWVV+Tj46Nhw4aptLRUiYmJWrx4sb2/r6+v1q1bp8mTJys+Pl6NGzfWmDFj9Nxzz9k17du31/r16zVt2jQtWLBArVu31ltvvaXExES7Zvjw4Tp16pRSU1PlcrnUo0cPZWRkXHLxOgAAuHHV6edUXW94ThXgPTynCkBtXTfPqQIAAKgPCFUAAAAG1OlrqgAAnji9D1yqrpze50gVAACAAYQqAAAAAwhVAAAABhCqAAAADCBUAQAAGECoAgAAMIBQBQAAYAChCgAAwABCFQAAgAGEKgAAAAMIVQAAAAYQqgAAAAwgVAEAABhAqAIAADCAUAUAAGAAoQoAAMAAQhUAAIABhCoAAAADCFUAAAAGEKoAAAAMIFQBAAAYQKgCAAAwgFAFAABgAKEKAADAAEIVAACAAYQqAAAAAwhVAAAABhCqAAAADCBUAQAAGECoAgAAMIBQBQAAYAChCgAAwABCFQAAgAGEKgAAAAMIVQAAAAYQqgAAAAwgVAEAABhAqAIAADCAUAUAAGAAoQoAAMAAQhUAAIABhCoAAAADCFUAAAAGEKoAAAAMIFQBAAAYQKgCAAAwgFB1lRYtWqR27dopICBAcXFx2rFjh7dbAgAAdQCh6iqsWrVKKSkpmjNnjnbt2qWYmBglJibq5MmT3m4NAAB4GaHqKrz88st67LHHNG7cOEVFRWnp0qVq1KiR/vznP3u7NQAA4GWEqhoqKytTbm6uEhIS7G0+Pj5KSEhQTk6OFzsDAAB1QQNvN1Bf/Pvf/1ZFRYXCwsI8toeFhSk/P7/afUpLS1VaWmqvFxcXS5Lcbve1a1RSRem5azo/UB9d6+/dz4XvN3Cpa/39rprfsqwfrSNUXUNpaWmaN2/eJdsjIyO90A1wYwtaOMnbLQC4Rn6u7/d3332noKCgy44TqmqoZcuW8vX11YkTJzy2nzhxQuHh4dXuM3v2bKWkpNjrlZWV+vbbb9WiRQs5HI5r2i+8z+12KzIyUkePHpXT6fR2OwAM4vt9Y7EsS999950iIiJ+tI5QVUN+fn6KjY1VVlaWhgwZIun7kJSVlaUpU6ZUu4+/v7/8/f09tgUHB1/jTlHXOJ1O/qcLXKf4ft84fuwIVRVC1VVISUnRmDFj1LNnT91+++169dVXVVJSonHjxnm7NQAA4GWEqqswfPhwnTp1SqmpqXK5XOrRo4cyMjIuuXgdAADceAhVV2nKlCmXPd0HXMzf319z5sy55BQwgPqP7zeq47CudH8gAAAAroiHfwIAABhAqAIAADCAUAVcA+np6Tw+AwBuMIQq4EeMHTtWDofjkuXLL7/0dmsADKju+33xMnfuXG+3iHqEu/+AKxg4cKCWLVvmsS0kJMRL3QAw6fjx4/a/V61apdTUVBUUFNjbmjRpYv/bsixVVFSoQQN+OlE9jlQBV+Dv76/w8HCPZcGCBYqOjlbjxo0VGRmpxx9/XGfOnLnsHP/617/Ut29fNW3aVE6nU7Gxsdq5c6c9vnXrVt15550KDAxUZGSknnjiCZWUlPwcbw+4oV38vQ4KCpLD4bDX8/Pz1bRpU23YsEGxsbHy9/fX1q1bNXbsWPsva1RJTk7W3Xffba9XVlYqLS1N7du3V2BgoGJiYvTee+/9vG8OPztCFVALPj4+eu2117Rv3z4tX75cGzdu1IwZMy5bP2rUKLVu3VpffPGFcnNzNWvWLDVs2FCSdOjQIQ0cOFDDhg3T7t27tWrVKm3dupXnoQF1xKxZs/THP/5RBw4cUPfu3Wu0T1pamt5++20tXbpU+/bt07Rp0/Sf//mfys7Ovsbdwps4hglcwbp16zxOAQwaNEirV6+219u1a6fnn39ekyZN0uLFi6udo7CwUNOnT1eXLl0kSTfffLM9lpaWplGjRik5Odkee+2113TXXXdpyZIlCggIuAbvCkBNPffcc/r1r39d4/rS0lL993//tz799FPFx8dLkjp06KCtW7fqT3/6k+66665r1Sq8jFAFXEHfvn21ZMkSe71x48b69NNPlZaWpvz8fLndbl24cEHnz5/X2bNn1ahRo0vmSElJ0aOPPqq//OUvSkhI0EMPPaSbbrpJ0venBnfv3q0VK1bY9ZZlqbKyUocPH1bXrl2v/ZsEcFk9e/a8qvovv/xSZ8+evSSIlZWV6dZbbzXZGuoYQhVwBY0bN1bHjh3t9SNHjujee+/V5MmT9Yc//EHNmzfX1q1bNWHCBJWVlVUbqubOnauHH35Y69ev14YNGzRnzhy98847euCBB3TmzBn99re/1RNPPHHJfm3atLmm7w3AlTVu3Nhj3cfHRz/8YyTl5eX2v6uur1y/fr1+8YtfeNTxZ22ub4Qq4Crl5uaqsrJSL730knx8vr8s8d13373ifp06dVKnTp00bdo0jRw5UsuWLdMDDzyg2267Tfv37/cIbgDqrpCQEO3du9djW15enn2dZFRUlPz9/VVYWMipvhsMF6oDV6ljx44qLy/XwoUL9dVXX+kvf/mLli5detn6c+fOacqUKdq8ebP+3//7f/rss8/0xRdf2Kf1Zs6cqW3btmnKlCnKy8vTwYMH9cEHH3ChOlBH9evXTzt37tTbb7+tgwcPas6cOR4hq2nTpnr66ac1bdo0LV++XIcOHdKuXbu0cOFCLV++3Iud41ojVAFXKSYmRi+//LJeeOEFdevWTStWrFBaWtpl6319ffXNN99o9OjR6tSpk37zm99o0KBBmjdvniSpe/fuys7O1v/93//pzjvv1K233qrU1FRFRET8XG8JwFVITEzUs88+qxkzZqhXr1767rvvNHr0aI+a//qv/9Kzzz6rtLQ0de3aVQMHDtT69evVvn17L3WNn4PD+uGJYQAAAFw1jlQBAAAYQKgCAAAwgFAFAABgAKEKAADAAEIVAACAAYQqAAAAAwhVAAAABhCqAAAADCBUAaiz7r77biUnJ3t9jp9Tu3bt9Oqrr3q7DQC1wB9UBlBnvf/++/YfqQWAuo5QBaDOat68ubdbuCYqKirkcDjk48PJAuB6wjcaQJ118am7xYsX6+abb1ZAQIDCwsL04IMP1nieyspKzZgxQ82bN1d4eLjmzp3rMf7yyy8rOjpajRs3VmRkpB5//HGdOXPGow+Hw3HJcuTIkRrtn56eruDgYP39739XVFSU/P39VVhYqJMnT+q+++5TYGCg2rdvrxUrVlzSe2Fhoe6//341adJETqdTv/nNb3TixAl7fOzYsRoyZIjHPsnJybr77rvt9ffee0/R0dEKDAxUixYtlJCQoJKSkhp/fgBqhlAFoM7buXOnnnjiCT333HMqKChQRkaG+vTpU+P9ly9frsaNG2v79u2aP3++nnvuOWVmZtrjPj4+eu2117Rv3z4tX75cGzdu1IwZM+zx999/X8ePH7eXoUOHqnPnzgoLC6vR/pJ09uxZvfDCC3rrrbe0b98+hYaGauzYsTp69Kg2bdqk9957T4sXL9bJkyftfSorK3X//ffr22+/VXZ2tjIzM/XVV19p+PDhNX7vx48f18iRIzV+/HgdOHBAmzdv1tChQ2VZVo3nAFBDFgDUUXfddZf15JNPWn/7298sp9Npud3uWs1xxx13eGzr1auXNXPmzMvus3r1aqtFixbVjr388stWcHCwVVBQUOP9ly1bZkmy8vLy7G0FBQWWJGvHjh32tgMHDliSrFdeecWyLMv65JNPLF9fX6uwsNCu2bdvn8d+Y8aMse6//36P13/yySetu+66y7Isy8rNzbUkWUeOHLlsvwDM4EgVgDrv17/+tdq2basOHTrokUce0YoVK3T27Nka79+9e3eP9VatWnkcEfr000/Vv39//eIXv1DTpk31yCOP6JtvvrnkNTZs2KBZs2Zp1apV6tSp01Xt7+fn59HHgQMH1KBBA8XGxtrbunTpouDgYI+ayMhIRUZG2tuioqIUHBysAwcO1Oi9x8TEqH///oqOjtZDDz2kN998U6dPn67RvgCuDqEKQJ3XtGlT7dq1S3/961/VqlUrpaamKiYmRkVFRTXa/4d3EDocDlVWVkqSjhw5onvvvVfdu3fX3/72N+Xm5mrRokWSpLKyMnuf/fv3a8SIEfrjH/+oAQMG2Ntrun9gYKAcDket3v+P8fHxueRUXnl5uf1vX19fZWZmasOGDYqKitLChQvVuXNnHT582HgvwI2OUAWgXmjQoIESEhI0f/587d69W0eOHNHGjRt/8ry5ubmqrKzUSy+9pN69e6tTp046duyYR82///1v3XfffRo2bJimTZt21ftXp0uXLrpw4YJyc3PtbQUFBR5BsWvXrjp69KiOHj1qb9u/f7+KiooUFRUlSQoJCdHx48c95s7Ly/NYdzgc+tWvfqV58+bpn//8p/z8/LRmzZor9gjg6vBIBQB13rp16/TVV1+pT58+atasmT766CNVVlaqc+fOP3nujh07qry8XAsXLtR9992nzz77TEuXLvWoGTZsmBo1aqS5c+fK5XLZ20NCQmq0f3U6d+6sgQMH6re//a2WLFmiBg0aKDk5WYGBgXZNQkKCoqOjNWrUKL366qu6cOGCHn/8cd11113q2bOnJKlfv3568cUX9fbbbys+Pl7/+7//q7179+rWW2+VJG3fvl1ZWVkaMGCAQkNDtX37dp06dUpdu3b9yZ8dAE8cqQJQ5wUHB+v9999Xv3791LVrVy1dulR//etfdcstt/zkuWNiYvTyyy/rhRdeULdu3bRixQqlpaV51GzZskV79+5V27Zt1apVK3s5evRojfa/nGXLlikiIkJ33XWXhg4dqokTJyo0NNQedzgc+uCDD9SsWTP16dNHCQkJ6tChg1atWmXXJCYm6tlnn9WMGTPUq1cvfffddxo9erQ97nQ6tWXLFt1zzz3q1KmTnnnmGb300ksaNGjQT/zkAPyQw/rhyXgAAABcNY5UAQAAGECoAlBvFRYWqkmTJpddCgsLvd0igBsIp/8A1FsXLlyw/1RMddq1a6cGDbgfB8DPg1AFAABgAKf/AAAADCBUAQAAGECoAgAAMIBQBQAAYAChCgAAwABCFQAAgAGEKgAAAAMIVQAAAAb8f7xNjQ29pSZIAAAAAElFTkSuQmCC",
      "text/plain": [
       "<Figure size 640x480 with 1 Axes>"
      ]
     },
     "metadata": {},
     "output_type": "display_data"
    }
   ],
   "source": [
    "sns.countplot(data=df, x='is_hazardous')"
   ]
  },
  {
   "cell_type": "code",
   "execution_count": 62,
   "metadata": {},
   "outputs": [],
   "source": [
    "from sklearn.model_selection import train_test_split,cross_val_score\n",
    "from sklearn.ensemble import RandomForestClassifier\n",
    "from sklearn.preprocessing import StandardScaler\n",
    "\n"
   ]
  },
  {
   "cell_type": "code",
   "execution_count": 63,
   "metadata": {},
   "outputs": [],
   "source": [
    "scaler = StandardScaler()"
   ]
  },
  {
   "cell_type": "code",
   "execution_count": 64,
   "metadata": {},
   "outputs": [
    {
     "data": {
      "text/plain": [
       "Index(['neo_id', 'name', 'absolute_magnitude', 'estimated_diameter_min',\n",
       "       'estimated_diameter_max', 'orbiting_body', 'relative_velocity',\n",
       "       'miss_distance', 'is_hazardous'],\n",
       "      dtype='object')"
      ]
     },
     "execution_count": 64,
     "metadata": {},
     "output_type": "execute_result"
    }
   ],
   "source": [
    "df.columns"
   ]
  },
  {
   "cell_type": "code",
   "execution_count": 65,
   "metadata": {},
   "outputs": [],
   "source": [
    "features = ['absolute_magnitude', 'estimated_diameter_min', 'estimated_diameter_max', 'relative_velocity', 'miss_distance']"
   ]
  },
  {
   "cell_type": "code",
   "execution_count": 66,
   "metadata": {},
   "outputs": [],
   "source": [
    "X = df[features]"
   ]
  },
  {
   "cell_type": "code",
   "execution_count": 67,
   "metadata": {},
   "outputs": [],
   "source": [
    "y = df['is_hazardous'].astype(int)"
   ]
  },
  {
   "cell_type": "code",
   "execution_count": 68,
   "metadata": {},
   "outputs": [
    {
     "data": {
      "text/plain": [
       "0         0\n",
       "1         1\n",
       "2         0\n",
       "3         0\n",
       "4         0\n",
       "         ..\n",
       "338194    0\n",
       "338195    0\n",
       "338196    0\n",
       "338197    0\n",
       "338198    0\n",
       "Name: is_hazardous, Length: 338199, dtype: int32"
      ]
     },
     "execution_count": 68,
     "metadata": {},
     "output_type": "execute_result"
    }
   ],
   "source": [
    "y"
   ]
  },
  {
   "cell_type": "code",
   "execution_count": 69,
   "metadata": {},
   "outputs": [],
   "source": [
    "# help(train_test_split)"
   ]
  },
  {
   "cell_type": "code",
   "execution_count": 70,
   "metadata": {},
   "outputs": [],
   "source": [
    "X_train, X_test, y_train, y_test = train_test_split(X, y, test_size=0.3, random_state=101)"
   ]
  },
  {
   "cell_type": "code",
   "execution_count": 71,
   "metadata": {},
   "outputs": [],
   "source": [
    "scaled_X_train = scaler.fit_transform(X_train)\n",
    "scaled_X_test = scaler.fit(X_test)"
   ]
  },
  {
   "cell_type": "code",
   "execution_count": 72,
   "metadata": {},
   "outputs": [],
   "source": [
    "rfc = RandomForestClassifier()"
   ]
  },
  {
   "cell_type": "code",
   "execution_count": 73,
   "metadata": {},
   "outputs": [],
   "source": [
    "# help(RandomForestClassifier)"
   ]
  },
  {
   "cell_type": "code",
   "execution_count": 74,
   "metadata": {},
   "outputs": [
    {
     "data": {
      "text/html": [
       "<style>#sk-container-id-3 {\n",
       "  /* Definition of color scheme common for light and dark mode */\n",
       "  --sklearn-color-text: black;\n",
       "  --sklearn-color-line: gray;\n",
       "  /* Definition of color scheme for unfitted estimators */\n",
       "  --sklearn-color-unfitted-level-0: #fff5e6;\n",
       "  --sklearn-color-unfitted-level-1: #f6e4d2;\n",
       "  --sklearn-color-unfitted-level-2: #ffe0b3;\n",
       "  --sklearn-color-unfitted-level-3: chocolate;\n",
       "  /* Definition of color scheme for fitted estimators */\n",
       "  --sklearn-color-fitted-level-0: #f0f8ff;\n",
       "  --sklearn-color-fitted-level-1: #d4ebff;\n",
       "  --sklearn-color-fitted-level-2: #b3dbfd;\n",
       "  --sklearn-color-fitted-level-3: cornflowerblue;\n",
       "\n",
       "  /* Specific color for light theme */\n",
       "  --sklearn-color-text-on-default-background: var(--sg-text-color, var(--theme-code-foreground, var(--jp-content-font-color1, black)));\n",
       "  --sklearn-color-background: var(--sg-background-color, var(--theme-background, var(--jp-layout-color0, white)));\n",
       "  --sklearn-color-border-box: var(--sg-text-color, var(--theme-code-foreground, var(--jp-content-font-color1, black)));\n",
       "  --sklearn-color-icon: #696969;\n",
       "\n",
       "  @media (prefers-color-scheme: dark) {\n",
       "    /* Redefinition of color scheme for dark theme */\n",
       "    --sklearn-color-text-on-default-background: var(--sg-text-color, var(--theme-code-foreground, var(--jp-content-font-color1, white)));\n",
       "    --sklearn-color-background: var(--sg-background-color, var(--theme-background, var(--jp-layout-color0, #111)));\n",
       "    --sklearn-color-border-box: var(--sg-text-color, var(--theme-code-foreground, var(--jp-content-font-color1, white)));\n",
       "    --sklearn-color-icon: #878787;\n",
       "  }\n",
       "}\n",
       "\n",
       "#sk-container-id-3 {\n",
       "  color: var(--sklearn-color-text);\n",
       "}\n",
       "\n",
       "#sk-container-id-3 pre {\n",
       "  padding: 0;\n",
       "}\n",
       "\n",
       "#sk-container-id-3 input.sk-hidden--visually {\n",
       "  border: 0;\n",
       "  clip: rect(1px 1px 1px 1px);\n",
       "  clip: rect(1px, 1px, 1px, 1px);\n",
       "  height: 1px;\n",
       "  margin: -1px;\n",
       "  overflow: hidden;\n",
       "  padding: 0;\n",
       "  position: absolute;\n",
       "  width: 1px;\n",
       "}\n",
       "\n",
       "#sk-container-id-3 div.sk-dashed-wrapped {\n",
       "  border: 1px dashed var(--sklearn-color-line);\n",
       "  margin: 0 0.4em 0.5em 0.4em;\n",
       "  box-sizing: border-box;\n",
       "  padding-bottom: 0.4em;\n",
       "  background-color: var(--sklearn-color-background);\n",
       "}\n",
       "\n",
       "#sk-container-id-3 div.sk-container {\n",
       "  /* jupyter's `normalize.less` sets `[hidden] { display: none; }`\n",
       "     but bootstrap.min.css set `[hidden] { display: none !important; }`\n",
       "     so we also need the `!important` here to be able to override the\n",
       "     default hidden behavior on the sphinx rendered scikit-learn.org.\n",
       "     See: https://github.com/scikit-learn/scikit-learn/issues/21755 */\n",
       "  display: inline-block !important;\n",
       "  position: relative;\n",
       "}\n",
       "\n",
       "#sk-container-id-3 div.sk-text-repr-fallback {\n",
       "  display: none;\n",
       "}\n",
       "\n",
       "div.sk-parallel-item,\n",
       "div.sk-serial,\n",
       "div.sk-item {\n",
       "  /* draw centered vertical line to link estimators */\n",
       "  background-image: linear-gradient(var(--sklearn-color-text-on-default-background), var(--sklearn-color-text-on-default-background));\n",
       "  background-size: 2px 100%;\n",
       "  background-repeat: no-repeat;\n",
       "  background-position: center center;\n",
       "}\n",
       "\n",
       "/* Parallel-specific style estimator block */\n",
       "\n",
       "#sk-container-id-3 div.sk-parallel-item::after {\n",
       "  content: \"\";\n",
       "  width: 100%;\n",
       "  border-bottom: 2px solid var(--sklearn-color-text-on-default-background);\n",
       "  flex-grow: 1;\n",
       "}\n",
       "\n",
       "#sk-container-id-3 div.sk-parallel {\n",
       "  display: flex;\n",
       "  align-items: stretch;\n",
       "  justify-content: center;\n",
       "  background-color: var(--sklearn-color-background);\n",
       "  position: relative;\n",
       "}\n",
       "\n",
       "#sk-container-id-3 div.sk-parallel-item {\n",
       "  display: flex;\n",
       "  flex-direction: column;\n",
       "}\n",
       "\n",
       "#sk-container-id-3 div.sk-parallel-item:first-child::after {\n",
       "  align-self: flex-end;\n",
       "  width: 50%;\n",
       "}\n",
       "\n",
       "#sk-container-id-3 div.sk-parallel-item:last-child::after {\n",
       "  align-self: flex-start;\n",
       "  width: 50%;\n",
       "}\n",
       "\n",
       "#sk-container-id-3 div.sk-parallel-item:only-child::after {\n",
       "  width: 0;\n",
       "}\n",
       "\n",
       "/* Serial-specific style estimator block */\n",
       "\n",
       "#sk-container-id-3 div.sk-serial {\n",
       "  display: flex;\n",
       "  flex-direction: column;\n",
       "  align-items: center;\n",
       "  background-color: var(--sklearn-color-background);\n",
       "  padding-right: 1em;\n",
       "  padding-left: 1em;\n",
       "}\n",
       "\n",
       "\n",
       "/* Toggleable style: style used for estimator/Pipeline/ColumnTransformer box that is\n",
       "clickable and can be expanded/collapsed.\n",
       "- Pipeline and ColumnTransformer use this feature and define the default style\n",
       "- Estimators will overwrite some part of the style using the `sk-estimator` class\n",
       "*/\n",
       "\n",
       "/* Pipeline and ColumnTransformer style (default) */\n",
       "\n",
       "#sk-container-id-3 div.sk-toggleable {\n",
       "  /* Default theme specific background. It is overwritten whether we have a\n",
       "  specific estimator or a Pipeline/ColumnTransformer */\n",
       "  background-color: var(--sklearn-color-background);\n",
       "}\n",
       "\n",
       "/* Toggleable label */\n",
       "#sk-container-id-3 label.sk-toggleable__label {\n",
       "  cursor: pointer;\n",
       "  display: block;\n",
       "  width: 100%;\n",
       "  margin-bottom: 0;\n",
       "  padding: 0.5em;\n",
       "  box-sizing: border-box;\n",
       "  text-align: center;\n",
       "}\n",
       "\n",
       "#sk-container-id-3 label.sk-toggleable__label-arrow:before {\n",
       "  /* Arrow on the left of the label */\n",
       "  content: \"▸\";\n",
       "  float: left;\n",
       "  margin-right: 0.25em;\n",
       "  color: var(--sklearn-color-icon);\n",
       "}\n",
       "\n",
       "#sk-container-id-3 label.sk-toggleable__label-arrow:hover:before {\n",
       "  color: var(--sklearn-color-text);\n",
       "}\n",
       "\n",
       "/* Toggleable content - dropdown */\n",
       "\n",
       "#sk-container-id-3 div.sk-toggleable__content {\n",
       "  max-height: 0;\n",
       "  max-width: 0;\n",
       "  overflow: hidden;\n",
       "  text-align: left;\n",
       "  /* unfitted */\n",
       "  background-color: var(--sklearn-color-unfitted-level-0);\n",
       "}\n",
       "\n",
       "#sk-container-id-3 div.sk-toggleable__content.fitted {\n",
       "  /* fitted */\n",
       "  background-color: var(--sklearn-color-fitted-level-0);\n",
       "}\n",
       "\n",
       "#sk-container-id-3 div.sk-toggleable__content pre {\n",
       "  margin: 0.2em;\n",
       "  border-radius: 0.25em;\n",
       "  color: var(--sklearn-color-text);\n",
       "  /* unfitted */\n",
       "  background-color: var(--sklearn-color-unfitted-level-0);\n",
       "}\n",
       "\n",
       "#sk-container-id-3 div.sk-toggleable__content.fitted pre {\n",
       "  /* unfitted */\n",
       "  background-color: var(--sklearn-color-fitted-level-0);\n",
       "}\n",
       "\n",
       "#sk-container-id-3 input.sk-toggleable__control:checked~div.sk-toggleable__content {\n",
       "  /* Expand drop-down */\n",
       "  max-height: 200px;\n",
       "  max-width: 100%;\n",
       "  overflow: auto;\n",
       "}\n",
       "\n",
       "#sk-container-id-3 input.sk-toggleable__control:checked~label.sk-toggleable__label-arrow:before {\n",
       "  content: \"▾\";\n",
       "}\n",
       "\n",
       "/* Pipeline/ColumnTransformer-specific style */\n",
       "\n",
       "#sk-container-id-3 div.sk-label input.sk-toggleable__control:checked~label.sk-toggleable__label {\n",
       "  color: var(--sklearn-color-text);\n",
       "  background-color: var(--sklearn-color-unfitted-level-2);\n",
       "}\n",
       "\n",
       "#sk-container-id-3 div.sk-label.fitted input.sk-toggleable__control:checked~label.sk-toggleable__label {\n",
       "  background-color: var(--sklearn-color-fitted-level-2);\n",
       "}\n",
       "\n",
       "/* Estimator-specific style */\n",
       "\n",
       "/* Colorize estimator box */\n",
       "#sk-container-id-3 div.sk-estimator input.sk-toggleable__control:checked~label.sk-toggleable__label {\n",
       "  /* unfitted */\n",
       "  background-color: var(--sklearn-color-unfitted-level-2);\n",
       "}\n",
       "\n",
       "#sk-container-id-3 div.sk-estimator.fitted input.sk-toggleable__control:checked~label.sk-toggleable__label {\n",
       "  /* fitted */\n",
       "  background-color: var(--sklearn-color-fitted-level-2);\n",
       "}\n",
       "\n",
       "#sk-container-id-3 div.sk-label label.sk-toggleable__label,\n",
       "#sk-container-id-3 div.sk-label label {\n",
       "  /* The background is the default theme color */\n",
       "  color: var(--sklearn-color-text-on-default-background);\n",
       "}\n",
       "\n",
       "/* On hover, darken the color of the background */\n",
       "#sk-container-id-3 div.sk-label:hover label.sk-toggleable__label {\n",
       "  color: var(--sklearn-color-text);\n",
       "  background-color: var(--sklearn-color-unfitted-level-2);\n",
       "}\n",
       "\n",
       "/* Label box, darken color on hover, fitted */\n",
       "#sk-container-id-3 div.sk-label.fitted:hover label.sk-toggleable__label.fitted {\n",
       "  color: var(--sklearn-color-text);\n",
       "  background-color: var(--sklearn-color-fitted-level-2);\n",
       "}\n",
       "\n",
       "/* Estimator label */\n",
       "\n",
       "#sk-container-id-3 div.sk-label label {\n",
       "  font-family: monospace;\n",
       "  font-weight: bold;\n",
       "  display: inline-block;\n",
       "  line-height: 1.2em;\n",
       "}\n",
       "\n",
       "#sk-container-id-3 div.sk-label-container {\n",
       "  text-align: center;\n",
       "}\n",
       "\n",
       "/* Estimator-specific */\n",
       "#sk-container-id-3 div.sk-estimator {\n",
       "  font-family: monospace;\n",
       "  border: 1px dotted var(--sklearn-color-border-box);\n",
       "  border-radius: 0.25em;\n",
       "  box-sizing: border-box;\n",
       "  margin-bottom: 0.5em;\n",
       "  /* unfitted */\n",
       "  background-color: var(--sklearn-color-unfitted-level-0);\n",
       "}\n",
       "\n",
       "#sk-container-id-3 div.sk-estimator.fitted {\n",
       "  /* fitted */\n",
       "  background-color: var(--sklearn-color-fitted-level-0);\n",
       "}\n",
       "\n",
       "/* on hover */\n",
       "#sk-container-id-3 div.sk-estimator:hover {\n",
       "  /* unfitted */\n",
       "  background-color: var(--sklearn-color-unfitted-level-2);\n",
       "}\n",
       "\n",
       "#sk-container-id-3 div.sk-estimator.fitted:hover {\n",
       "  /* fitted */\n",
       "  background-color: var(--sklearn-color-fitted-level-2);\n",
       "}\n",
       "\n",
       "/* Specification for estimator info (e.g. \"i\" and \"?\") */\n",
       "\n",
       "/* Common style for \"i\" and \"?\" */\n",
       "\n",
       ".sk-estimator-doc-link,\n",
       "a:link.sk-estimator-doc-link,\n",
       "a:visited.sk-estimator-doc-link {\n",
       "  float: right;\n",
       "  font-size: smaller;\n",
       "  line-height: 1em;\n",
       "  font-family: monospace;\n",
       "  background-color: var(--sklearn-color-background);\n",
       "  border-radius: 1em;\n",
       "  height: 1em;\n",
       "  width: 1em;\n",
       "  text-decoration: none !important;\n",
       "  margin-left: 1ex;\n",
       "  /* unfitted */\n",
       "  border: var(--sklearn-color-unfitted-level-1) 1pt solid;\n",
       "  color: var(--sklearn-color-unfitted-level-1);\n",
       "}\n",
       "\n",
       ".sk-estimator-doc-link.fitted,\n",
       "a:link.sk-estimator-doc-link.fitted,\n",
       "a:visited.sk-estimator-doc-link.fitted {\n",
       "  /* fitted */\n",
       "  border: var(--sklearn-color-fitted-level-1) 1pt solid;\n",
       "  color: var(--sklearn-color-fitted-level-1);\n",
       "}\n",
       "\n",
       "/* On hover */\n",
       "div.sk-estimator:hover .sk-estimator-doc-link:hover,\n",
       ".sk-estimator-doc-link:hover,\n",
       "div.sk-label-container:hover .sk-estimator-doc-link:hover,\n",
       ".sk-estimator-doc-link:hover {\n",
       "  /* unfitted */\n",
       "  background-color: var(--sklearn-color-unfitted-level-3);\n",
       "  color: var(--sklearn-color-background);\n",
       "  text-decoration: none;\n",
       "}\n",
       "\n",
       "div.sk-estimator.fitted:hover .sk-estimator-doc-link.fitted:hover,\n",
       ".sk-estimator-doc-link.fitted:hover,\n",
       "div.sk-label-container:hover .sk-estimator-doc-link.fitted:hover,\n",
       ".sk-estimator-doc-link.fitted:hover {\n",
       "  /* fitted */\n",
       "  background-color: var(--sklearn-color-fitted-level-3);\n",
       "  color: var(--sklearn-color-background);\n",
       "  text-decoration: none;\n",
       "}\n",
       "\n",
       "/* Span, style for the box shown on hovering the info icon */\n",
       ".sk-estimator-doc-link span {\n",
       "  display: none;\n",
       "  z-index: 9999;\n",
       "  position: relative;\n",
       "  font-weight: normal;\n",
       "  right: .2ex;\n",
       "  padding: .5ex;\n",
       "  margin: .5ex;\n",
       "  width: min-content;\n",
       "  min-width: 20ex;\n",
       "  max-width: 50ex;\n",
       "  color: var(--sklearn-color-text);\n",
       "  box-shadow: 2pt 2pt 4pt #999;\n",
       "  /* unfitted */\n",
       "  background: var(--sklearn-color-unfitted-level-0);\n",
       "  border: .5pt solid var(--sklearn-color-unfitted-level-3);\n",
       "}\n",
       "\n",
       ".sk-estimator-doc-link.fitted span {\n",
       "  /* fitted */\n",
       "  background: var(--sklearn-color-fitted-level-0);\n",
       "  border: var(--sklearn-color-fitted-level-3);\n",
       "}\n",
       "\n",
       ".sk-estimator-doc-link:hover span {\n",
       "  display: block;\n",
       "}\n",
       "\n",
       "/* \"?\"-specific style due to the `<a>` HTML tag */\n",
       "\n",
       "#sk-container-id-3 a.estimator_doc_link {\n",
       "  float: right;\n",
       "  font-size: 1rem;\n",
       "  line-height: 1em;\n",
       "  font-family: monospace;\n",
       "  background-color: var(--sklearn-color-background);\n",
       "  border-radius: 1rem;\n",
       "  height: 1rem;\n",
       "  width: 1rem;\n",
       "  text-decoration: none;\n",
       "  /* unfitted */\n",
       "  color: var(--sklearn-color-unfitted-level-1);\n",
       "  border: var(--sklearn-color-unfitted-level-1) 1pt solid;\n",
       "}\n",
       "\n",
       "#sk-container-id-3 a.estimator_doc_link.fitted {\n",
       "  /* fitted */\n",
       "  border: var(--sklearn-color-fitted-level-1) 1pt solid;\n",
       "  color: var(--sklearn-color-fitted-level-1);\n",
       "}\n",
       "\n",
       "/* On hover */\n",
       "#sk-container-id-3 a.estimator_doc_link:hover {\n",
       "  /* unfitted */\n",
       "  background-color: var(--sklearn-color-unfitted-level-3);\n",
       "  color: var(--sklearn-color-background);\n",
       "  text-decoration: none;\n",
       "}\n",
       "\n",
       "#sk-container-id-3 a.estimator_doc_link.fitted:hover {\n",
       "  /* fitted */\n",
       "  background-color: var(--sklearn-color-fitted-level-3);\n",
       "}\n",
       "</style><div id=\"sk-container-id-3\" class=\"sk-top-container\"><div class=\"sk-text-repr-fallback\"><pre>RandomForestClassifier()</pre><b>In a Jupyter environment, please rerun this cell to show the HTML representation or trust the notebook. <br />On GitHub, the HTML representation is unable to render, please try loading this page with nbviewer.org.</b></div><div class=\"sk-container\" hidden><div class=\"sk-item\"><div class=\"sk-estimator fitted sk-toggleable\"><input class=\"sk-toggleable__control sk-hidden--visually\" id=\"sk-estimator-id-3\" type=\"checkbox\" checked><label for=\"sk-estimator-id-3\" class=\"sk-toggleable__label fitted sk-toggleable__label-arrow fitted\">&nbsp;&nbsp;RandomForestClassifier<a class=\"sk-estimator-doc-link fitted\" rel=\"noreferrer\" target=\"_blank\" href=\"https://scikit-learn.org/1.5/modules/generated/sklearn.ensemble.RandomForestClassifier.html\">?<span>Documentation for RandomForestClassifier</span></a><span class=\"sk-estimator-doc-link fitted\">i<span>Fitted</span></span></label><div class=\"sk-toggleable__content fitted\"><pre>RandomForestClassifier()</pre></div> </div></div></div></div>"
      ],
      "text/plain": [
       "RandomForestClassifier()"
      ]
     },
     "execution_count": 74,
     "metadata": {},
     "output_type": "execute_result"
    }
   ],
   "source": [
    "rfc.fit(X_train, y_train)"
   ]
  },
  {
   "cell_type": "code",
   "execution_count": 75,
   "metadata": {},
   "outputs": [],
   "source": [
    "y_preds = rfc.predict(X_test)"
   ]
  },
  {
   "cell_type": "code",
   "execution_count": 86,
   "metadata": {},
   "outputs": [
    {
     "data": {
      "text/plain": [
       "array([0.12325275, 0.14748421, 0.15016345, 0.28246192, 0.29663767])"
      ]
     },
     "execution_count": 86,
     "metadata": {},
     "output_type": "execute_result"
    }
   ],
   "source": [
    "rfc.feature_importances_"
   ]
  },
  {
   "cell_type": "code",
   "execution_count": 76,
   "metadata": {},
   "outputs": [],
   "source": [
    "from sklearn.metrics import classification_report, confusion_matrix, ConfusionMatrixDisplay"
   ]
  },
  {
   "cell_type": "code",
   "execution_count": 77,
   "metadata": {},
   "outputs": [],
   "source": [
    "scores = cross_val_score(rfc, X_train, y_train, cv=5)"
   ]
  },
  {
   "cell_type": "code",
   "execution_count": 78,
   "metadata": {},
   "outputs": [
    {
     "data": {
      "text/plain": [
       "0.91205504510307"
      ]
     },
     "execution_count": 78,
     "metadata": {},
     "output_type": "execute_result"
    }
   ],
   "source": [
    "abs(scores.mean())"
   ]
  },
  {
   "cell_type": "code",
   "execution_count": 79,
   "metadata": {},
   "outputs": [
    {
     "name": "stdout",
     "output_type": "stream",
     "text": [
      "              precision    recall  f1-score   support\n",
      "\n",
      "           0       0.94      0.97      0.95     88564\n",
      "           1       0.71      0.58      0.64     12896\n",
      "\n",
      "    accuracy                           0.92    101460\n",
      "   macro avg       0.83      0.77      0.80    101460\n",
      "weighted avg       0.91      0.92      0.91    101460\n",
      "\n"
     ]
    }
   ],
   "source": [
    "print(classification_report(y_test, y_preds))"
   ]
  },
  {
   "cell_type": "code",
   "execution_count": 81,
   "metadata": {},
   "outputs": [
    {
     "data": {
      "text/plain": [
       "<sklearn.metrics._plot.confusion_matrix.ConfusionMatrixDisplay at 0x235e4d00e00>"
      ]
     },
     "execution_count": 81,
     "metadata": {},
     "output_type": "execute_result"
    },
    {
     "data": {
      "image/png": "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",
      "text/plain": [
       "<Figure size 640x480 with 2 Axes>"
      ]
     },
     "metadata": {},
     "output_type": "display_data"
    }
   ],
   "source": [
    "cm = confusion_matrix(y_test, y_preds)\n",
    "fig = ConfusionMatrixDisplay(confusion_matrix=cm)\n",
    "fig.plot()"
   ]
  },
  {
   "cell_type": "code",
   "execution_count": null,
   "metadata": {},
   "outputs": [],
   "source": []
  }
 ],
 "metadata": {
  "kernelspec": {
   "display_name": "Python 3",
   "language": "python",
   "name": "python3"
  },
  "language_info": {
   "codemirror_mode": {
    "name": "ipython",
    "version": 3
   },
   "file_extension": ".py",
   "mimetype": "text/x-python",
   "name": "python",
   "nbconvert_exporter": "python",
   "pygments_lexer": "ipython3",
   "version": "3.12.4"
  }
 },
 "nbformat": 4,
 "nbformat_minor": 2
}
